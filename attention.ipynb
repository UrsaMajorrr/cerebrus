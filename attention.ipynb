{
 "cells": [
  {
   "cell_type": "code",
   "execution_count": 2,
   "metadata": {},
   "outputs": [
    {
     "name": "stdout",
     "output_type": "stream",
     "text": [
      "tensor([0.5203, 0.9317, 0.5577, 0.5038, 0.7535, 0.6050])\n",
      "tensor([0.1344, 0.2406, 0.1440, 0.1301, 0.1946, 0.1562])\n"
     ]
    }
   ],
   "source": [
    "import torch\n",
    "inputs = torch.tensor([\n",
    "    [0.43, 0.15, 0.89],\n",
    "    [0.22, 0.88, 0.33],\n",
    "    [0.57, 0.12, 0.99],\n",
    "    [0.71, 0.23, 0.44],\n",
    "    [0.11, 0.54, 0.77],\n",
    "    [0.98, 0.36, 0.22]\n",
    "])\n",
    "\n",
    "query = inputs[1]\n",
    "attn_scores_2 = torch.empty(inputs.shape[0])\n",
    "for i, x_i in enumerate(inputs):\n",
    "    attn_scores_2[i] = torch.dot(query, x_i)\n",
    "print(attn_scores_2)\n",
    "attn_weights_2_temp = attn_scores_2 / attn_scores_2.sum()\n",
    "print(attn_weights_2_temp)"
   ]
  },
  {
   "cell_type": "code",
   "execution_count": 4,
   "metadata": {},
   "outputs": [
    {
     "name": "stdout",
     "output_type": "stream",
     "text": [
      "tensor([0.1453, 0.2193, 0.1509, 0.1429, 0.1835, 0.1582])\n",
      "tensor(1.0000)\n"
     ]
    }
   ],
   "source": [
    "def softmax_naive(x):\n",
    "    return torch.exp(x) / torch.exp(x).sum(dim=0)\n",
    "\n",
    "attn_weights_2_naive = softmax_naive(attn_scores_2)\n",
    "print(attn_weights_2_naive)\n",
    "print(attn_weights_2_naive.sum())"
   ]
  },
  {
   "cell_type": "code",
   "execution_count": 7,
   "metadata": {},
   "outputs": [
    {
     "name": "stdout",
     "output_type": "stream",
     "text": [
      "tensor([0.4734, 0.4217, 0.5900])\n"
     ]
    }
   ],
   "source": [
    "attn_weights_2 = torch.softmax(attn_scores_2, dim=0)\n",
    "context_vector_2 = torch.zeros(query.shape[0])\n",
    "for i, x_i in enumerate(inputs):\n",
    "    context_vector_2 += attn_weights_2[i] * x_i\n",
    "print(context_vector_2)"
   ]
  },
  {
   "cell_type": "code",
   "execution_count": 12,
   "metadata": {},
   "outputs": [
    {
     "name": "stdout",
     "output_type": "stream",
     "text": [
      "tensor([[0.9995, 0.5203, 1.1442, 0.7314, 0.8136, 0.6712],\n",
      "        [0.5203, 0.9317, 0.5577, 0.5038, 0.7535, 0.6050],\n",
      "        [1.1442, 0.5577, 1.3194, 0.8679, 0.8898, 0.8196],\n",
      "        [0.7314, 0.5038, 0.8679, 0.7506, 0.5411, 0.8754],\n",
      "        [0.8136, 0.7535, 0.8898, 0.5411, 0.8966, 0.4716],\n",
      "        [0.6712, 0.6050, 0.8196, 0.8754, 0.4716, 1.1384]])\n",
      "tensor([[0.1965, 0.1217, 0.2270, 0.1503, 0.1631, 0.1415],\n",
      "        [0.1453, 0.2193, 0.1509, 0.1429, 0.1835, 0.1582],\n",
      "        [0.1998, 0.1112, 0.2381, 0.1516, 0.1549, 0.1444],\n",
      "        [0.1682, 0.1340, 0.1929, 0.1715, 0.1391, 0.1943],\n",
      "        [0.1792, 0.1688, 0.1934, 0.1365, 0.1947, 0.1273],\n",
      "        [0.1484, 0.1389, 0.1722, 0.1821, 0.1216, 0.2368]])\n"
     ]
    }
   ],
   "source": [
    "attn_scores = torch.empty(inputs.shape[0], inputs.shape[0])\n",
    "for i, x_i in enumerate(inputs):\n",
    "    for j, x_j in enumerate(inputs):\n",
    "        attn_scores[i, j] = torch.dot(x_i, x_j)\n",
    "print(attn_scores)\n",
    "\n",
    "attn_weights = torch.softmax(attn_scores, dim=1)\n",
    "print(attn_weights)"
   ]
  },
  {
   "cell_type": "code",
   "execution_count": 14,
   "metadata": {},
   "outputs": [],
   "source": [
    "# Faster approach\n",
    "attn_scores = inputs @ inputs.T\n",
    "attn_weights = torch.softmax(attn_scores, dim=-1)\n",
    "all_context_vectors = attn_weights @ inputs"
   ]
  },
  {
   "cell_type": "markdown",
   "metadata": {},
   "source": [
    "# Now with trainable weights"
   ]
  },
  {
   "cell_type": "code",
   "execution_count": 24,
   "metadata": {},
   "outputs": [
    {
     "name": "stdout",
     "output_type": "stream",
     "text": [
      "tensor([0.8829, 0.9856, 0.9585, 0.6316, 1.0489, 0.5998])\n",
      "tensor([0.2340, 0.7687])\n"
     ]
    }
   ],
   "source": [
    "x_2 = inputs[1]\n",
    "d_in = inputs.shape[1]\n",
    "d_out = 2\n",
    "\n",
    "torch.manual_seed(123)\n",
    "\n",
    "W_query = torch.nn.Parameter(torch.rand(d_in, d_out), requires_grad=False)\n",
    "W_key = torch.nn.Parameter(torch.rand(d_in, d_out), requires_grad=False)\n",
    "w_value = torch.nn.Parameter(torch.rand(d_in, d_out), requires_grad=False)\n",
    "\n",
    "x2_query = x_2 @ W_query\n",
    "x2_key = x_2 @ W_key\n",
    "x2_value = x_2 @ w_value\n",
    "\n",
    "keys = inputs @ W_key\n",
    "values = inputs @ w_value\n",
    "\n",
    "keys2 = keys[1]\n",
    "attn_scores_22 = x2_query.dot(keys2)\n",
    "attn_scores_2 = x2_query @ keys.T \n",
    "print(attn_scores_2)\n",
    "d_k = keys.shape[-1]\n",
    "attn_weights_2 = torch.softmax(attn_scores_2 / d_k ** 0.5, dim=-1)\n",
    "context_vector_2 = attn_weights_2 @ values\n",
    "print(context_vector_2)"
   ]
  }
 ],
 "metadata": {
  "kernelspec": {
   "display_name": "llms",
   "language": "python",
   "name": "python3"
  },
  "language_info": {
   "codemirror_mode": {
    "name": "ipython",
    "version": 3
   },
   "file_extension": ".py",
   "mimetype": "text/x-python",
   "name": "python",
   "nbconvert_exporter": "python",
   "pygments_lexer": "ipython3",
   "version": "3.12.3"
  }
 },
 "nbformat": 4,
 "nbformat_minor": 2
}
